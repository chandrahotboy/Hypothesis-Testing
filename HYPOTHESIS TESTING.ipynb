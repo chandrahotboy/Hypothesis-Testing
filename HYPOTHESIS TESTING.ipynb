{
 "cells": [
  {
   "cell_type": "markdown",
   "id": "092467d1-4713-45e1-8a32-8cd15c2aaea7",
   "metadata": {},
   "source": [
    "## State the Hypotheses statement:"
   ]
  },
  {
   "cell_type": "code",
   "execution_count": 13,
   "id": "93b5e47e-ea14-4e05-a212-2d79e484346f",
   "metadata": {},
   "outputs": [
    {
     "data": {
      "text/plain": [
       "' Null Hypothesis (H0): The mean weekly operating cost is equal to the theoretical cost\\n\\n    Alternative Hypothesis (H1): The mean weekly operating cost is higher than the theoretical cost. '"
      ]
     },
     "execution_count": 13,
     "metadata": {},
     "output_type": "execute_result"
    }
   ],
   "source": [
    "\"\"\" Null Hypothesis (H0): The mean weekly operating cost is equal to the theoretical cost\n",
    "\n",
    "    Alternative Hypothesis (H1): The mean weekly operating cost is higher than the theoretical cost. \"\"\""
   ]
  },
  {
   "cell_type": "markdown",
   "id": "bac1238e-d01e-4a83-8278-fb0128fab884",
   "metadata": {},
   "source": [
    "## Calculate the Test Statistic:\n",
    "### Use the following formula to calculate the test statistic (t):\n",
    "    where:\n",
    "           •   ˉxˉ = sample mean weekly cost (Rs. 3,050)\n",
    "           •\tμ = theoretical mean weekly cost according to the cost model (W = $1,000 + $5X for X = 600 units)\n",
    "           •\tσ = 5*25 units\n",
    "           •\tn = sample size (25 restaurants)\n"
   ]
  },
  {
   "cell_type": "code",
   "execution_count": 14,
   "id": "a218d445-2083-4bb8-9779-5527799f0f57",
   "metadata": {},
   "outputs": [],
   "source": [
    "import scipy.stats as stats\n",
    "import math\n",
    "\n",
    "# Given data\n",
    "sample_mean = 3050\n",
    "\n",
    "theoretical_mean_pounds = 1000 + 5 * 600  # 4000\n",
    "exchange_rate = 107.7        # Coverting pounds to rupees \n",
    "theoretical_mean_rupees = theoretical_mean_pounds * exchange_rate\n",
    "theoretical_mean_rupees\n",
    "\n",
    "standard_deviation_per_unit = 5 * 25  # 125\n",
    "\n",
    "sample_size = 25"
   ]
  },
  {
   "cell_type": "markdown",
   "id": "823a00f5-e3db-483a-834d-c2e937d0bf4d",
   "metadata": {},
   "source": [
    "## Determine the Critical Value:\n",
    "#### Using the alpha level of 5% (α = 0.05), \n",
    "#### determine the critical value from the standard normal (Z) distribution table\n"
   ]
  },
  {
   "cell_type": "code",
   "execution_count": 15,
   "id": "74ba0095-f757-410e-a84f-1ffc35191628",
   "metadata": {},
   "outputs": [
    {
     "name": "stdout",
     "output_type": "stream",
     "text": [
      "Test Statistic (t): -17110.0\n",
      "Critical Value (Z): 1.6448536269514722\n"
     ]
    }
   ],
   "source": [
    "# Calculate the test statistic\n",
    "test_statistic = (sample_mean - theoretical_mean_rupees) / (standard_deviation_per_unit / math.sqrt(sample_size))\n",
    "print(\"Test Statistic (t):\", test_statistic)\n",
    "\n",
    "# Degrees of freedom\n",
    "df = sample_size - 1\n",
    "\n",
    "# Critical value from the Z-distribution table for alpha = 0.05 (one-tailed test)\n",
    "alpha = 0.05\n",
    "critical_value = stats.norm.ppf(1 - alpha)\n",
    "print(\"Critical Value (Z):\", critical_value)"
   ]
  },
  {
   "cell_type": "markdown",
   "id": "aa053be1-5a56-40e7-8077-976804a23b0b",
   "metadata": {},
   "source": [
    "## Make a Decision:\n",
    "#### Compare the test statistic with the critical value to decide whether to reject the null hypothesis.\n"
   ]
  },
  {
   "cell_type": "code",
   "execution_count": 16,
   "id": "8aeaca2b-e354-4334-a53b-31bd16c321d4",
   "metadata": {},
   "outputs": [
    {
     "name": "stdout",
     "output_type": "stream",
     "text": [
      "Fail to reject the null hypothesis.\n"
     ]
    }
   ],
   "source": [
    "# Decision\n",
    "if test_statistic > critical_value:\n",
    "    print(\"Reject the null hypothesis.\")\n",
    "else:\n",
    "    print(\"Fail to reject the null hypothesis.\")"
   ]
  },
  {
   "cell_type": "markdown",
   "id": "07b61af4-b18a-47c5-927f-bc33c991f166",
   "metadata": {},
   "source": [
    "## Conclusion:"
   ]
  },
  {
   "cell_type": "code",
   "execution_count": 17,
   "id": "ad73912b-df07-423c-baa9-4c2ac6f75e53",
   "metadata": {},
   "outputs": [
    {
     "data": {
      "text/plain": [
       "'There is no strong evidence to support the restaurant owners claim \\n    that the weekly operating costs are higher than the model suggests. '"
      ]
     },
     "execution_count": 17,
     "metadata": {},
     "output_type": "execute_result"
    }
   ],
   "source": [
    "\"\"\"There is no strong evidence to support the restaurant owners claim \n",
    "    that the weekly operating costs are higher than the model suggests. \"\"\""
   ]
  }
 ],
 "metadata": {
  "kernelspec": {
   "display_name": "Python 3 (ipykernel)",
   "language": "python",
   "name": "python3"
  },
  "language_info": {
   "codemirror_mode": {
    "name": "ipython",
    "version": 3
   },
   "file_extension": ".py",
   "mimetype": "text/x-python",
   "name": "python",
   "nbconvert_exporter": "python",
   "pygments_lexer": "ipython3",
   "version": "3.11.7"
  }
 },
 "nbformat": 4,
 "nbformat_minor": 5
}
