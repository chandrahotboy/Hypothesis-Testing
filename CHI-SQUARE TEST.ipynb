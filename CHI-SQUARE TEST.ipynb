{
 "cells": [
  {
   "cell_type": "markdown",
   "id": "5bc62c6b-b31d-4f5c-8aee-8f6eb2b33d55",
   "metadata": {},
   "source": [
    "## State the Hypotheses:"
   ]
  },
  {
   "cell_type": "code",
   "execution_count": 18,
   "id": "b279f6ed-ec0c-4f0d-8d7f-e7a53dbb6dc2",
   "metadata": {},
   "outputs": [
    {
     "data": {
      "text/plain": [
       "\"Null Hypothesis (H₀): \\n        There is no significant association between the type of smart home device purchased and the customer's satisfaction level.\\n\\n   Alternative Hypothesis (H₁): \\n        There is a significant association between the type of smart home device purchased and the customer's satisfaction level. \""
      ]
     },
     "execution_count": 18,
     "metadata": {},
     "output_type": "execute_result"
    }
   ],
   "source": [
    "\"\"\"Null Hypothesis (H₀): \n",
    "        There is no significant association between the type of smart home device purchased and the customer's satisfaction level.\n",
    "\n",
    "   Alternative Hypothesis (H₁): \n",
    "        There is a significant association between the type of smart home device purchased and the customer's satisfaction level. \"\"\""
   ]
  },
  {
   "cell_type": "markdown",
   "id": "f059fce4-7644-4281-883e-94831d49d36b",
   "metadata": {},
   "source": [
    "## Compute the Chi-Square Statistic:"
   ]
  },
  {
   "cell_type": "code",
   "execution_count": 19,
   "id": "5bbed54c-7280-4886-9248-be6cf3e87577",
   "metadata": {},
   "outputs": [
    {
     "data": {
      "text/plain": [
       "array([[ 50,  70],\n",
       "       [ 80, 100],\n",
       "       [ 60,  90],\n",
       "       [ 30,  50],\n",
       "       [ 20,  50]])"
      ]
     },
     "execution_count": 19,
     "metadata": {},
     "output_type": "execute_result"
    }
   ],
   "source": [
    "import numpy as np\n",
    "import scipy.stats as stats\n",
    "\n",
    "observed = np.array([      \n",
    "    [50, 70],\n",
    "    [80, 100],\n",
    "    [60, 90],\n",
    "    [30, 50],\n",
    "    [20, 50]])\n",
    "\n",
    "row_totals = np.sum(observed, axis=1)  \n",
    "col_totals = np.sum(observed, axis=0)\n",
    "grand_total = np.sum(observed)\n",
    "\n",
    "observed"
   ]
  },
  {
   "cell_type": "markdown",
   "id": "b939392a-648a-4859-afce-68da5d32a7c6",
   "metadata": {},
   "source": [
    "## Determine the Critical Value:\n",
    "#### Using the significance level (alpha) of 0.05 and the degrees of freedom (which is the number of categories minus 1)"
   ]
  },
  {
   "cell_type": "code",
   "execution_count": 20,
   "id": "50c1a5f9-fc9a-40b3-8d47-7a4469b551cd",
   "metadata": {},
   "outputs": [
    {
     "name": "stdout",
     "output_type": "stream",
     "text": [
      "Chi-Square Statistic: 5.638227513227513\n",
      "Critical Value: 9.487729036781154\n",
      "P-Value: 0.22784371130697179\n"
     ]
    }
   ],
   "source": [
    "# Expected frequencies\n",
    "expected = np.outer(row_totals, col_totals) / grand_total\n",
    "\n",
    "# Chi-Square statistic\n",
    "chi_square_statistic = np.sum((observed - expected)**2 / expected)\n",
    "\n",
    "# Degrees of freedom\n",
    "df = (observed.shape[0] - 1) * (observed.shape[1] - 1)\n",
    "\n",
    "# Critical value at alpha = 0.05\n",
    "critical_value = stats.chi2.ppf(0.95, df)\n",
    "\n",
    "# P-value\n",
    "p_value = 1 - stats.chi2.cdf(chi_square_statistic, df)\n",
    "\n",
    "print(\"Chi-Square Statistic:\", chi_square_statistic)\n",
    "print(\"Critical Value:\", critical_value)\n",
    "print(\"P-Value:\", p_value)"
   ]
  },
  {
   "cell_type": "markdown",
   "id": "029cf734-4836-405a-b59e-a5d9319efa0e",
   "metadata": {},
   "source": [
    "## Make a Decision:\n",
    "#### Compare the Chi-Square statistic with the critical value to decide whether to reject the null hypothesis."
   ]
  },
  {
   "cell_type": "code",
   "execution_count": 21,
   "id": "eda14c8a-95f7-4775-ad14-59c174b05e1d",
   "metadata": {},
   "outputs": [
    {
     "name": "stdout",
     "output_type": "stream",
     "text": [
      "Fail to reject the null hypothesis.\n"
     ]
    }
   ],
   "source": [
    "# Decision\n",
    "if chi_square_statistic > critical_value:\n",
    "    print(\"Reject the null hypothesis.\")\n",
    "else:\n",
    "    print(\"Fail to reject the null hypothesis.\")\n"
   ]
  }
 ],
 "metadata": {
  "kernelspec": {
   "display_name": "Python 3 (ipykernel)",
   "language": "python",
   "name": "python3"
  },
  "language_info": {
   "codemirror_mode": {
    "name": "ipython",
    "version": 3
   },
   "file_extension": ".py",
   "mimetype": "text/x-python",
   "name": "python",
   "nbconvert_exporter": "python",
   "pygments_lexer": "ipython3",
   "version": "3.11.7"
  }
 },
 "nbformat": 4,
 "nbformat_minor": 5
}
